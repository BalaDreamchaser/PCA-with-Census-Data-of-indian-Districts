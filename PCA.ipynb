{
 "cells": [
  {
   "cell_type": "code",
   "execution_count": null,
   "metadata": {
    "id": "Y0_xqEteuNgv"
   },
   "outputs": [],
   "source": [
    "## PCA"
   ]
  },
  {
   "cell_type": "code",
   "execution_count": null,
   "metadata": {
    "id": "wjLNPqYeW6gj"
   },
   "outputs": [],
   "source": [
    "import pandas as pd, numpy as np, matplotlib.pyplot as plt, seaborn as sns"
   ]
  },
  {
   "cell_type": "code",
   "execution_count": null,
   "metadata": {
    "colab": {
     "base_uri": "https://localhost:8080/"
    },
    "executionInfo": {
     "elapsed": 44717,
     "status": "ok",
     "timestamp": 1700561670173,
     "user": {
      "displayName": "Balasubramanian Gopalakrishnan",
      "userId": "15560708231594715961"
     },
     "user_tz": -330
    },
    "id": "xdCAXdkLSjXs",
    "outputId": "cb29d8da-3126-4b1d-f86f-38546770443a"
   },
   "outputs": [
    {
     "name": "stdout",
     "output_type": "stream",
     "text": [
      "Mounted at /content/drive\n"
     ]
    }
   ],
   "source": [
    "from google.colab import drive\n",
    "drive.mount('/content/drive')"
   ]
  },
  {
   "cell_type": "code",
   "execution_count": null,
   "metadata": {
    "colab": {
     "base_uri": "https://localhost:8080/",
     "height": 290
    },
    "executionInfo": {
     "elapsed": 14,
     "status": "ok",
     "timestamp": 1700561693702,
     "user": {
      "displayName": "Balasubramanian Gopalakrishnan",
      "userId": "15560708231594715961"
     },
     "user_tz": -330
    },
    "id": "M3DsCDHMjppi",
    "outputId": "f299c65e-8d4e-44ec-fee2-40d135727a01"
   },
   "outputs": [
    {
     "data": {
      "text/html": [
       "\n",
       "  <div id=\"df-4f9a55b7-2c0b-41c7-9513-b203048b1c6e\" class=\"colab-df-container\">\n",
       "    <div>\n",
       "<style scoped>\n",
       "    .dataframe tbody tr th:only-of-type {\n",
       "        vertical-align: middle;\n",
       "    }\n",
       "\n",
       "    .dataframe tbody tr th {\n",
       "        vertical-align: top;\n",
       "    }\n",
       "\n",
       "    .dataframe thead th {\n",
       "        text-align: right;\n",
       "    }\n",
       "</style>\n",
       "<table border=\"1\" class=\"dataframe\">\n",
       "  <thead>\n",
       "    <tr style=\"text-align: right;\">\n",
       "      <th></th>\n",
       "      <th>District code</th>\n",
       "      <th>State name</th>\n",
       "      <th>District name</th>\n",
       "      <th>Population</th>\n",
       "      <th>Male</th>\n",
       "      <th>Female</th>\n",
       "      <th>Literate</th>\n",
       "      <th>Male_Literate</th>\n",
       "      <th>Female_Literate</th>\n",
       "      <th>SC</th>\n",
       "      <th>...</th>\n",
       "      <th>Power_Parity_Rs_90000_150000</th>\n",
       "      <th>Power_Parity_Rs_45000_150000</th>\n",
       "      <th>Power_Parity_Rs_150000_240000</th>\n",
       "      <th>Power_Parity_Rs_240000_330000</th>\n",
       "      <th>Power_Parity_Rs_150000_330000</th>\n",
       "      <th>Power_Parity_Rs_330000_425000</th>\n",
       "      <th>Power_Parity_Rs_425000_545000</th>\n",
       "      <th>Power_Parity_Rs_330000_545000</th>\n",
       "      <th>Power_Parity_Above_Rs_545000</th>\n",
       "      <th>Total_Power_Parity</th>\n",
       "    </tr>\n",
       "  </thead>\n",
       "  <tbody>\n",
       "    <tr>\n",
       "      <th>113</th>\n",
       "      <td>114</td>\n",
       "      <td>RAJASTHAN</td>\n",
       "      <td>Jaisalmer</td>\n",
       "      <td>669919</td>\n",
       "      <td>361708</td>\n",
       "      <td>308211</td>\n",
       "      <td>308653</td>\n",
       "      <td>210415</td>\n",
       "      <td>98238</td>\n",
       "      <td>99134</td>\n",
       "      <td>...</td>\n",
       "      <td>278</td>\n",
       "      <td>587</td>\n",
       "      <td>36</td>\n",
       "      <td>41</td>\n",
       "      <td>77</td>\n",
       "      <td>49</td>\n",
       "      <td>79</td>\n",
       "      <td>128</td>\n",
       "      <td>86</td>\n",
       "      <td>986</td>\n",
       "    </tr>\n",
       "    <tr>\n",
       "      <th>520</th>\n",
       "      <td>521</td>\n",
       "      <td>MAHARASHTRA</td>\n",
       "      <td>Pune</td>\n",
       "      <td>9429408</td>\n",
       "      <td>4924105</td>\n",
       "      <td>4505303</td>\n",
       "      <td>7171723</td>\n",
       "      <td>3940210</td>\n",
       "      <td>3231513</td>\n",
       "      <td>1180703</td>\n",
       "      <td>...</td>\n",
       "      <td>6261</td>\n",
       "      <td>10190</td>\n",
       "      <td>2831</td>\n",
       "      <td>1949</td>\n",
       "      <td>4780</td>\n",
       "      <td>2727</td>\n",
       "      <td>3272</td>\n",
       "      <td>5999</td>\n",
       "      <td>5349</td>\n",
       "      <td>27223</td>\n",
       "    </tr>\n",
       "    <tr>\n",
       "      <th>620</th>\n",
       "      <td>621</td>\n",
       "      <td>TAMIL NADU</td>\n",
       "      <td>Pudukkottai</td>\n",
       "      <td>1618345</td>\n",
       "      <td>803188</td>\n",
       "      <td>815157</td>\n",
       "      <td>1110545</td>\n",
       "      <td>608776</td>\n",
       "      <td>501769</td>\n",
       "      <td>284804</td>\n",
       "      <td>...</td>\n",
       "      <td>636</td>\n",
       "      <td>1641</td>\n",
       "      <td>282</td>\n",
       "      <td>229</td>\n",
       "      <td>511</td>\n",
       "      <td>86</td>\n",
       "      <td>132</td>\n",
       "      <td>218</td>\n",
       "      <td>92</td>\n",
       "      <td>2812</td>\n",
       "    </tr>\n",
       "    <tr>\n",
       "      <th>416</th>\n",
       "      <td>417</td>\n",
       "      <td>CHHATTISGARH</td>\n",
       "      <td>Bijapur</td>\n",
       "      <td>255230</td>\n",
       "      <td>128663</td>\n",
       "      <td>126567</td>\n",
       "      <td>86919</td>\n",
       "      <td>54076</td>\n",
       "      <td>32843</td>\n",
       "      <td>10122</td>\n",
       "      <td>...</td>\n",
       "      <td>383</td>\n",
       "      <td>911</td>\n",
       "      <td>71</td>\n",
       "      <td>23</td>\n",
       "      <td>94</td>\n",
       "      <td>19</td>\n",
       "      <td>30</td>\n",
       "      <td>49</td>\n",
       "      <td>40</td>\n",
       "      <td>1387</td>\n",
       "    </tr>\n",
       "    <tr>\n",
       "      <th>198</th>\n",
       "      <td>199</td>\n",
       "      <td>UTTAR PRADESH</td>\n",
       "      <td>Mirzapur</td>\n",
       "      <td>2496970</td>\n",
       "      <td>1312302</td>\n",
       "      <td>1184668</td>\n",
       "      <td>1428683</td>\n",
       "      <td>865837</td>\n",
       "      <td>562846</td>\n",
       "      <td>661129</td>\n",
       "      <td>...</td>\n",
       "      <td>679</td>\n",
       "      <td>1703</td>\n",
       "      <td>176</td>\n",
       "      <td>245</td>\n",
       "      <td>421</td>\n",
       "      <td>160</td>\n",
       "      <td>52</td>\n",
       "      <td>212</td>\n",
       "      <td>52</td>\n",
       "      <td>2875</td>\n",
       "    </tr>\n",
       "  </tbody>\n",
       "</table>\n",
       "<p>5 rows × 118 columns</p>\n",
       "</div>\n",
       "    <div class=\"colab-df-buttons\">\n",
       "\n",
       "  <div class=\"colab-df-container\">\n",
       "    <button class=\"colab-df-convert\" onclick=\"convertToInteractive('df-4f9a55b7-2c0b-41c7-9513-b203048b1c6e')\"\n",
       "            title=\"Convert this dataframe to an interactive table.\"\n",
       "            style=\"display:none;\">\n",
       "\n",
       "  <svg xmlns=\"http://www.w3.org/2000/svg\" height=\"24px\" viewBox=\"0 -960 960 960\">\n",
       "    <path d=\"M120-120v-720h720v720H120Zm60-500h600v-160H180v160Zm220 220h160v-160H400v160Zm0 220h160v-160H400v160ZM180-400h160v-160H180v160Zm440 0h160v-160H620v160ZM180-180h160v-160H180v160Zm440 0h160v-160H620v160Z\"/>\n",
       "  </svg>\n",
       "    </button>\n",
       "\n",
       "  <style>\n",
       "    .colab-df-container {\n",
       "      display:flex;\n",
       "      gap: 12px;\n",
       "    }\n",
       "\n",
       "    .colab-df-convert {\n",
       "      background-color: #E8F0FE;\n",
       "      border: none;\n",
       "      border-radius: 50%;\n",
       "      cursor: pointer;\n",
       "      display: none;\n",
       "      fill: #1967D2;\n",
       "      height: 32px;\n",
       "      padding: 0 0 0 0;\n",
       "      width: 32px;\n",
       "    }\n",
       "\n",
       "    .colab-df-convert:hover {\n",
       "      background-color: #E2EBFA;\n",
       "      box-shadow: 0px 1px 2px rgba(60, 64, 67, 0.3), 0px 1px 3px 1px rgba(60, 64, 67, 0.15);\n",
       "      fill: #174EA6;\n",
       "    }\n",
       "\n",
       "    .colab-df-buttons div {\n",
       "      margin-bottom: 4px;\n",
       "    }\n",
       "\n",
       "    [theme=dark] .colab-df-convert {\n",
       "      background-color: #3B4455;\n",
       "      fill: #D2E3FC;\n",
       "    }\n",
       "\n",
       "    [theme=dark] .colab-df-convert:hover {\n",
       "      background-color: #434B5C;\n",
       "      box-shadow: 0px 1px 3px 1px rgba(0, 0, 0, 0.15);\n",
       "      filter: drop-shadow(0px 1px 2px rgba(0, 0, 0, 0.3));\n",
       "      fill: #FFFFFF;\n",
       "    }\n",
       "  </style>\n",
       "\n",
       "    <script>\n",
       "      const buttonEl =\n",
       "        document.querySelector('#df-4f9a55b7-2c0b-41c7-9513-b203048b1c6e button.colab-df-convert');\n",
       "      buttonEl.style.display =\n",
       "        google.colab.kernel.accessAllowed ? 'block' : 'none';\n",
       "\n",
       "      async function convertToInteractive(key) {\n",
       "        const element = document.querySelector('#df-4f9a55b7-2c0b-41c7-9513-b203048b1c6e');\n",
       "        const dataTable =\n",
       "          await google.colab.kernel.invokeFunction('convertToInteractive',\n",
       "                                                    [key], {});\n",
       "        if (!dataTable) return;\n",
       "\n",
       "        const docLinkHtml = 'Like what you see? Visit the ' +\n",
       "          '<a target=\"_blank\" href=https://colab.research.google.com/notebooks/data_table.ipynb>data table notebook</a>'\n",
       "          + ' to learn more about interactive tables.';\n",
       "        element.innerHTML = '';\n",
       "        dataTable['output_type'] = 'display_data';\n",
       "        await google.colab.output.renderOutput(dataTable, element);\n",
       "        const docLink = document.createElement('div');\n",
       "        docLink.innerHTML = docLinkHtml;\n",
       "        element.appendChild(docLink);\n",
       "      }\n",
       "    </script>\n",
       "  </div>\n",
       "\n",
       "\n",
       "<div id=\"df-3bf67eaf-b285-4e7b-9485-392efea428a0\">\n",
       "  <button class=\"colab-df-quickchart\" onclick=\"quickchart('df-3bf67eaf-b285-4e7b-9485-392efea428a0')\"\n",
       "            title=\"Suggest charts\"\n",
       "            style=\"display:none;\">\n",
       "\n",
       "<svg xmlns=\"http://www.w3.org/2000/svg\" height=\"24px\"viewBox=\"0 0 24 24\"\n",
       "     width=\"24px\">\n",
       "    <g>\n",
       "        <path d=\"M19 3H5c-1.1 0-2 .9-2 2v14c0 1.1.9 2 2 2h14c1.1 0 2-.9 2-2V5c0-1.1-.9-2-2-2zM9 17H7v-7h2v7zm4 0h-2V7h2v10zm4 0h-2v-4h2v4z\"/>\n",
       "    </g>\n",
       "</svg>\n",
       "  </button>\n",
       "\n",
       "<style>\n",
       "  .colab-df-quickchart {\n",
       "      --bg-color: #E8F0FE;\n",
       "      --fill-color: #1967D2;\n",
       "      --hover-bg-color: #E2EBFA;\n",
       "      --hover-fill-color: #174EA6;\n",
       "      --disabled-fill-color: #AAA;\n",
       "      --disabled-bg-color: #DDD;\n",
       "  }\n",
       "\n",
       "  [theme=dark] .colab-df-quickchart {\n",
       "      --bg-color: #3B4455;\n",
       "      --fill-color: #D2E3FC;\n",
       "      --hover-bg-color: #434B5C;\n",
       "      --hover-fill-color: #FFFFFF;\n",
       "      --disabled-bg-color: #3B4455;\n",
       "      --disabled-fill-color: #666;\n",
       "  }\n",
       "\n",
       "  .colab-df-quickchart {\n",
       "    background-color: var(--bg-color);\n",
       "    border: none;\n",
       "    border-radius: 50%;\n",
       "    cursor: pointer;\n",
       "    display: none;\n",
       "    fill: var(--fill-color);\n",
       "    height: 32px;\n",
       "    padding: 0;\n",
       "    width: 32px;\n",
       "  }\n",
       "\n",
       "  .colab-df-quickchart:hover {\n",
       "    background-color: var(--hover-bg-color);\n",
       "    box-shadow: 0 1px 2px rgba(60, 64, 67, 0.3), 0 1px 3px 1px rgba(60, 64, 67, 0.15);\n",
       "    fill: var(--button-hover-fill-color);\n",
       "  }\n",
       "\n",
       "  .colab-df-quickchart-complete:disabled,\n",
       "  .colab-df-quickchart-complete:disabled:hover {\n",
       "    background-color: var(--disabled-bg-color);\n",
       "    fill: var(--disabled-fill-color);\n",
       "    box-shadow: none;\n",
       "  }\n",
       "\n",
       "  .colab-df-spinner {\n",
       "    border: 2px solid var(--fill-color);\n",
       "    border-color: transparent;\n",
       "    border-bottom-color: var(--fill-color);\n",
       "    animation:\n",
       "      spin 1s steps(1) infinite;\n",
       "  }\n",
       "\n",
       "  @keyframes spin {\n",
       "    0% {\n",
       "      border-color: transparent;\n",
       "      border-bottom-color: var(--fill-color);\n",
       "      border-left-color: var(--fill-color);\n",
       "    }\n",
       "    20% {\n",
       "      border-color: transparent;\n",
       "      border-left-color: var(--fill-color);\n",
       "      border-top-color: var(--fill-color);\n",
       "    }\n",
       "    30% {\n",
       "      border-color: transparent;\n",
       "      border-left-color: var(--fill-color);\n",
       "      border-top-color: var(--fill-color);\n",
       "      border-right-color: var(--fill-color);\n",
       "    }\n",
       "    40% {\n",
       "      border-color: transparent;\n",
       "      border-right-color: var(--fill-color);\n",
       "      border-top-color: var(--fill-color);\n",
       "    }\n",
       "    60% {\n",
       "      border-color: transparent;\n",
       "      border-right-color: var(--fill-color);\n",
       "    }\n",
       "    80% {\n",
       "      border-color: transparent;\n",
       "      border-right-color: var(--fill-color);\n",
       "      border-bottom-color: var(--fill-color);\n",
       "    }\n",
       "    90% {\n",
       "      border-color: transparent;\n",
       "      border-bottom-color: var(--fill-color);\n",
       "    }\n",
       "  }\n",
       "</style>\n",
       "\n",
       "  <script>\n",
       "    async function quickchart(key) {\n",
       "      const quickchartButtonEl =\n",
       "        document.querySelector('#' + key + ' button');\n",
       "      quickchartButtonEl.disabled = true;  // To prevent multiple clicks.\n",
       "      quickchartButtonEl.classList.add('colab-df-spinner');\n",
       "      try {\n",
       "        const charts = await google.colab.kernel.invokeFunction(\n",
       "            'suggestCharts', [key], {});\n",
       "      } catch (error) {\n",
       "        console.error('Error during call to suggestCharts:', error);\n",
       "      }\n",
       "      quickchartButtonEl.classList.remove('colab-df-spinner');\n",
       "      quickchartButtonEl.classList.add('colab-df-quickchart-complete');\n",
       "    }\n",
       "    (() => {\n",
       "      let quickchartButtonEl =\n",
       "        document.querySelector('#df-3bf67eaf-b285-4e7b-9485-392efea428a0 button');\n",
       "      quickchartButtonEl.style.display =\n",
       "        google.colab.kernel.accessAllowed ? 'block' : 'none';\n",
       "    })();\n",
       "  </script>\n",
       "</div>\n",
       "    </div>\n",
       "  </div>\n"
      ],
      "text/plain": [
       "     District code     State name District name  Population     Male   Female  \\\n",
       "113            114      RAJASTHAN     Jaisalmer      669919   361708   308211   \n",
       "520            521    MAHARASHTRA          Pune     9429408  4924105  4505303   \n",
       "620            621     TAMIL NADU   Pudukkottai     1618345   803188   815157   \n",
       "416            417   CHHATTISGARH       Bijapur      255230   128663   126567   \n",
       "198            199  UTTAR PRADESH      Mirzapur     2496970  1312302  1184668   \n",
       "\n",
       "     Literate  Male_Literate  Female_Literate       SC  ...  \\\n",
       "113    308653         210415            98238    99134  ...   \n",
       "520   7171723        3940210          3231513  1180703  ...   \n",
       "620   1110545         608776           501769   284804  ...   \n",
       "416     86919          54076            32843    10122  ...   \n",
       "198   1428683         865837           562846   661129  ...   \n",
       "\n",
       "     Power_Parity_Rs_90000_150000  Power_Parity_Rs_45000_150000  \\\n",
       "113                           278                           587   \n",
       "520                          6261                         10190   \n",
       "620                           636                          1641   \n",
       "416                           383                           911   \n",
       "198                           679                          1703   \n",
       "\n",
       "     Power_Parity_Rs_150000_240000  Power_Parity_Rs_240000_330000  \\\n",
       "113                             36                             41   \n",
       "520                           2831                           1949   \n",
       "620                            282                            229   \n",
       "416                             71                             23   \n",
       "198                            176                            245   \n",
       "\n",
       "     Power_Parity_Rs_150000_330000  Power_Parity_Rs_330000_425000  \\\n",
       "113                             77                             49   \n",
       "520                           4780                           2727   \n",
       "620                            511                             86   \n",
       "416                             94                             19   \n",
       "198                            421                            160   \n",
       "\n",
       "     Power_Parity_Rs_425000_545000  Power_Parity_Rs_330000_545000  \\\n",
       "113                             79                            128   \n",
       "520                           3272                           5999   \n",
       "620                            132                            218   \n",
       "416                             30                             49   \n",
       "198                             52                            212   \n",
       "\n",
       "     Power_Parity_Above_Rs_545000  Total_Power_Parity  \n",
       "113                            86                 986  \n",
       "520                          5349               27223  \n",
       "620                            92                2812  \n",
       "416                            40                1387  \n",
       "198                            52                2875  \n",
       "\n",
       "[5 rows x 118 columns]"
      ]
     },
     "execution_count": 5,
     "metadata": {},
     "output_type": "execute_result"
    }
   ],
   "source": [
    "df = pd.read_csv('/content/drive/MyDrive/Colab Notebooks/india-districts-census-2011.csv')\n",
    "df.sample(5)\n"
   ]
  },
  {
   "cell_type": "code",
   "execution_count": null,
   "metadata": {
    "colab": {
     "base_uri": "https://localhost:8080/"
    },
    "executionInfo": {
     "elapsed": 1069,
     "status": "ok",
     "timestamp": 1700561702857,
     "user": {
      "displayName": "Balasubramanian Gopalakrishnan",
      "userId": "15560708231594715961"
     },
     "user_tz": -330
    },
    "id": "rjU3cswFSD77",
    "outputId": "411f48e1-0443-4df7-8356-797af1ed6194"
   },
   "outputs": [
    {
     "data": {
      "text/plain": [
       "(640, 118)"
      ]
     },
     "execution_count": 6,
     "metadata": {},
     "output_type": "execute_result"
    }
   ],
   "source": [
    "df.shape"
   ]
  },
  {
   "cell_type": "code",
   "execution_count": null,
   "metadata": {
    "colab": {
     "base_uri": "https://localhost:8080/",
     "height": 367
    },
    "executionInfo": {
     "elapsed": 625,
     "status": "ok",
     "timestamp": 1700561723162,
     "user": {
      "displayName": "Balasubramanian Gopalakrishnan",
      "userId": "15560708231594715961"
     },
     "user_tz": -330
    },
    "id": "Op-M8XiASWE3",
    "outputId": "bb38d46d-0940-4ff1-e9d3-d24ea56b897e"
   },
   "outputs": [
    {
     "data": {
      "text/html": [
       "\n",
       "  <div id=\"df-c4a58b97-3cf5-4a8c-81ce-d41b50760c71\" class=\"colab-df-container\">\n",
       "    <div>\n",
       "<style scoped>\n",
       "    .dataframe tbody tr th:only-of-type {\n",
       "        vertical-align: middle;\n",
       "    }\n",
       "\n",
       "    .dataframe tbody tr th {\n",
       "        vertical-align: top;\n",
       "    }\n",
       "\n",
       "    .dataframe thead th {\n",
       "        text-align: right;\n",
       "    }\n",
       "</style>\n",
       "<table border=\"1\" class=\"dataframe\">\n",
       "  <thead>\n",
       "    <tr style=\"text-align: right;\">\n",
       "      <th></th>\n",
       "      <th>District code</th>\n",
       "      <th>Population</th>\n",
       "      <th>Male</th>\n",
       "      <th>Female</th>\n",
       "      <th>Literate</th>\n",
       "      <th>Male_Literate</th>\n",
       "      <th>Female_Literate</th>\n",
       "      <th>SC</th>\n",
       "      <th>Male_SC</th>\n",
       "      <th>Female_SC</th>\n",
       "      <th>...</th>\n",
       "      <th>Power_Parity_Rs_90000_150000</th>\n",
       "      <th>Power_Parity_Rs_45000_150000</th>\n",
       "      <th>Power_Parity_Rs_150000_240000</th>\n",
       "      <th>Power_Parity_Rs_240000_330000</th>\n",
       "      <th>Power_Parity_Rs_150000_330000</th>\n",
       "      <th>Power_Parity_Rs_330000_425000</th>\n",
       "      <th>Power_Parity_Rs_425000_545000</th>\n",
       "      <th>Power_Parity_Rs_330000_545000</th>\n",
       "      <th>Power_Parity_Above_Rs_545000</th>\n",
       "      <th>Total_Power_Parity</th>\n",
       "    </tr>\n",
       "  </thead>\n",
       "  <tbody>\n",
       "    <tr>\n",
       "      <th>count</th>\n",
       "      <td>640.000000</td>\n",
       "      <td>6.400000e+02</td>\n",
       "      <td>6.400000e+02</td>\n",
       "      <td>6.400000e+02</td>\n",
       "      <td>6.400000e+02</td>\n",
       "      <td>6.400000e+02</td>\n",
       "      <td>6.400000e+02</td>\n",
       "      <td>6.400000e+02</td>\n",
       "      <td>6.400000e+02</td>\n",
       "      <td>6.400000e+02</td>\n",
       "      <td>...</td>\n",
       "      <td>640.000000</td>\n",
       "      <td>640.000000</td>\n",
       "      <td>640.000000</td>\n",
       "      <td>640.000000</td>\n",
       "      <td>640.000000</td>\n",
       "      <td>640.000000</td>\n",
       "      <td>640.000000</td>\n",
       "      <td>640.000000</td>\n",
       "      <td>640.000000</td>\n",
       "      <td>640.000000</td>\n",
       "    </tr>\n",
       "    <tr>\n",
       "      <th>mean</th>\n",
       "      <td>320.500000</td>\n",
       "      <td>1.891961e+06</td>\n",
       "      <td>9.738598e+05</td>\n",
       "      <td>9.181011e+05</td>\n",
       "      <td>1.193186e+06</td>\n",
       "      <td>6.793182e+05</td>\n",
       "      <td>5.138675e+05</td>\n",
       "      <td>3.146537e+05</td>\n",
       "      <td>1.617739e+05</td>\n",
       "      <td>1.528798e+05</td>\n",
       "      <td>...</td>\n",
       "      <td>786.046875</td>\n",
       "      <td>1696.456250</td>\n",
       "      <td>294.000000</td>\n",
       "      <td>215.300000</td>\n",
       "      <td>509.300000</td>\n",
       "      <td>194.204688</td>\n",
       "      <td>261.245313</td>\n",
       "      <td>455.450000</td>\n",
       "      <td>279.631250</td>\n",
       "      <td>3315.412500</td>\n",
       "    </tr>\n",
       "    <tr>\n",
       "      <th>std</th>\n",
       "      <td>184.896367</td>\n",
       "      <td>1.544380e+06</td>\n",
       "      <td>8.007785e+05</td>\n",
       "      <td>7.449864e+05</td>\n",
       "      <td>1.068583e+06</td>\n",
       "      <td>5.924144e+05</td>\n",
       "      <td>4.801816e+05</td>\n",
       "      <td>3.129818e+05</td>\n",
       "      <td>1.611216e+05</td>\n",
       "      <td>1.520336e+05</td>\n",
       "      <td>...</td>\n",
       "      <td>1038.854733</td>\n",
       "      <td>1720.535151</td>\n",
       "      <td>638.345281</td>\n",
       "      <td>362.684243</td>\n",
       "      <td>968.538748</td>\n",
       "      <td>424.108001</td>\n",
       "      <td>587.279450</td>\n",
       "      <td>1007.364839</td>\n",
       "      <td>1050.934537</td>\n",
       "      <td>4638.568719</td>\n",
       "    </tr>\n",
       "    <tr>\n",
       "      <th>min</th>\n",
       "      <td>1.000000</td>\n",
       "      <td>8.004000e+03</td>\n",
       "      <td>4.414000e+03</td>\n",
       "      <td>3.590000e+03</td>\n",
       "      <td>4.436000e+03</td>\n",
       "      <td>2.614000e+03</td>\n",
       "      <td>1.822000e+03</td>\n",
       "      <td>0.000000e+00</td>\n",
       "      <td>0.000000e+00</td>\n",
       "      <td>0.000000e+00</td>\n",
       "      <td>...</td>\n",
       "      <td>0.000000</td>\n",
       "      <td>0.000000</td>\n",
       "      <td>0.000000</td>\n",
       "      <td>0.000000</td>\n",
       "      <td>0.000000</td>\n",
       "      <td>0.000000</td>\n",
       "      <td>0.000000</td>\n",
       "      <td>0.000000</td>\n",
       "      <td>0.000000</td>\n",
       "      <td>9.000000</td>\n",
       "    </tr>\n",
       "    <tr>\n",
       "      <th>25%</th>\n",
       "      <td>160.750000</td>\n",
       "      <td>8.178610e+05</td>\n",
       "      <td>4.171682e+05</td>\n",
       "      <td>4.017458e+05</td>\n",
       "      <td>4.825982e+05</td>\n",
       "      <td>2.764365e+05</td>\n",
       "      <td>2.008920e+05</td>\n",
       "      <td>8.320850e+04</td>\n",
       "      <td>4.230700e+04</td>\n",
       "      <td>4.267175e+04</td>\n",
       "      <td>...</td>\n",
       "      <td>236.750000</td>\n",
       "      <td>589.000000</td>\n",
       "      <td>59.000000</td>\n",
       "      <td>24.750000</td>\n",
       "      <td>95.000000</td>\n",
       "      <td>19.000000</td>\n",
       "      <td>21.000000</td>\n",
       "      <td>44.000000</td>\n",
       "      <td>18.000000</td>\n",
       "      <td>1024.250000</td>\n",
       "    </tr>\n",
       "    <tr>\n",
       "      <th>50%</th>\n",
       "      <td>320.500000</td>\n",
       "      <td>1.557367e+06</td>\n",
       "      <td>7.986815e+05</td>\n",
       "      <td>7.589200e+05</td>\n",
       "      <td>9.573465e+05</td>\n",
       "      <td>5.483525e+05</td>\n",
       "      <td>4.038590e+05</td>\n",
       "      <td>2.460160e+05</td>\n",
       "      <td>1.255485e+05</td>\n",
       "      <td>1.178550e+05</td>\n",
       "      <td>...</td>\n",
       "      <td>518.000000</td>\n",
       "      <td>1220.500000</td>\n",
       "      <td>149.000000</td>\n",
       "      <td>118.500000</td>\n",
       "      <td>278.000000</td>\n",
       "      <td>84.000000</td>\n",
       "      <td>85.500000</td>\n",
       "      <td>186.500000</td>\n",
       "      <td>60.500000</td>\n",
       "      <td>2238.500000</td>\n",
       "    </tr>\n",
       "    <tr>\n",
       "      <th>75%</th>\n",
       "      <td>480.250000</td>\n",
       "      <td>2.583551e+06</td>\n",
       "      <td>1.338604e+06</td>\n",
       "      <td>1.264277e+06</td>\n",
       "      <td>1.602260e+06</td>\n",
       "      <td>9.188582e+05</td>\n",
       "      <td>6.641550e+05</td>\n",
       "      <td>4.477078e+05</td>\n",
       "      <td>2.284602e+05</td>\n",
       "      <td>2.140502e+05</td>\n",
       "      <td>...</td>\n",
       "      <td>941.250000</td>\n",
       "      <td>2233.250000</td>\n",
       "      <td>296.500000</td>\n",
       "      <td>262.000000</td>\n",
       "      <td>564.500000</td>\n",
       "      <td>213.250000</td>\n",
       "      <td>293.000000</td>\n",
       "      <td>497.000000</td>\n",
       "      <td>215.500000</td>\n",
       "      <td>3959.000000</td>\n",
       "    </tr>\n",
       "    <tr>\n",
       "      <th>max</th>\n",
       "      <td>640.000000</td>\n",
       "      <td>1.106015e+07</td>\n",
       "      <td>5.865078e+06</td>\n",
       "      <td>5.195070e+06</td>\n",
       "      <td>8.227161e+06</td>\n",
       "      <td>4.591396e+06</td>\n",
       "      <td>3.635765e+06</td>\n",
       "      <td>2.464032e+06</td>\n",
       "      <td>1.266504e+06</td>\n",
       "      <td>1.197528e+06</td>\n",
       "      <td>...</td>\n",
       "      <td>10334.000000</td>\n",
       "      <td>13819.000000</td>\n",
       "      <td>10835.000000</td>\n",
       "      <td>3595.000000</td>\n",
       "      <td>14430.000000</td>\n",
       "      <td>5027.000000</td>\n",
       "      <td>7597.000000</td>\n",
       "      <td>12624.000000</td>\n",
       "      <td>18289.000000</td>\n",
       "      <td>60163.000000</td>\n",
       "    </tr>\n",
       "  </tbody>\n",
       "</table>\n",
       "<p>8 rows × 116 columns</p>\n",
       "</div>\n",
       "    <div class=\"colab-df-buttons\">\n",
       "\n",
       "  <div class=\"colab-df-container\">\n",
       "    <button class=\"colab-df-convert\" onclick=\"convertToInteractive('df-c4a58b97-3cf5-4a8c-81ce-d41b50760c71')\"\n",
       "            title=\"Convert this dataframe to an interactive table.\"\n",
       "            style=\"display:none;\">\n",
       "\n",
       "  <svg xmlns=\"http://www.w3.org/2000/svg\" height=\"24px\" viewBox=\"0 -960 960 960\">\n",
       "    <path d=\"M120-120v-720h720v720H120Zm60-500h600v-160H180v160Zm220 220h160v-160H400v160Zm0 220h160v-160H400v160ZM180-400h160v-160H180v160Zm440 0h160v-160H620v160ZM180-180h160v-160H180v160Zm440 0h160v-160H620v160Z\"/>\n",
       "  </svg>\n",
       "    </button>\n",
       "\n",
       "  <style>\n",
       "    .colab-df-container {\n",
       "      display:flex;\n",
       "      gap: 12px;\n",
       "    }\n",
       "\n",
       "    .colab-df-convert {\n",
       "      background-color: #E8F0FE;\n",
       "      border: none;\n",
       "      border-radius: 50%;\n",
       "      cursor: pointer;\n",
       "      display: none;\n",
       "      fill: #1967D2;\n",
       "      height: 32px;\n",
       "      padding: 0 0 0 0;\n",
       "      width: 32px;\n",
       "    }\n",
       "\n",
       "    .colab-df-convert:hover {\n",
       "      background-color: #E2EBFA;\n",
       "      box-shadow: 0px 1px 2px rgba(60, 64, 67, 0.3), 0px 1px 3px 1px rgba(60, 64, 67, 0.15);\n",
       "      fill: #174EA6;\n",
       "    }\n",
       "\n",
       "    .colab-df-buttons div {\n",
       "      margin-bottom: 4px;\n",
       "    }\n",
       "\n",
       "    [theme=dark] .colab-df-convert {\n",
       "      background-color: #3B4455;\n",
       "      fill: #D2E3FC;\n",
       "    }\n",
       "\n",
       "    [theme=dark] .colab-df-convert:hover {\n",
       "      background-color: #434B5C;\n",
       "      box-shadow: 0px 1px 3px 1px rgba(0, 0, 0, 0.15);\n",
       "      filter: drop-shadow(0px 1px 2px rgba(0, 0, 0, 0.3));\n",
       "      fill: #FFFFFF;\n",
       "    }\n",
       "  </style>\n",
       "\n",
       "    <script>\n",
       "      const buttonEl =\n",
       "        document.querySelector('#df-c4a58b97-3cf5-4a8c-81ce-d41b50760c71 button.colab-df-convert');\n",
       "      buttonEl.style.display =\n",
       "        google.colab.kernel.accessAllowed ? 'block' : 'none';\n",
       "\n",
       "      async function convertToInteractive(key) {\n",
       "        const element = document.querySelector('#df-c4a58b97-3cf5-4a8c-81ce-d41b50760c71');\n",
       "        const dataTable =\n",
       "          await google.colab.kernel.invokeFunction('convertToInteractive',\n",
       "                                                    [key], {});\n",
       "        if (!dataTable) return;\n",
       "\n",
       "        const docLinkHtml = 'Like what you see? Visit the ' +\n",
       "          '<a target=\"_blank\" href=https://colab.research.google.com/notebooks/data_table.ipynb>data table notebook</a>'\n",
       "          + ' to learn more about interactive tables.';\n",
       "        element.innerHTML = '';\n",
       "        dataTable['output_type'] = 'display_data';\n",
       "        await google.colab.output.renderOutput(dataTable, element);\n",
       "        const docLink = document.createElement('div');\n",
       "        docLink.innerHTML = docLinkHtml;\n",
       "        element.appendChild(docLink);\n",
       "      }\n",
       "    </script>\n",
       "  </div>\n",
       "\n",
       "\n",
       "<div id=\"df-8f484c08-1eca-43d8-9d7b-614c60c91fbd\">\n",
       "  <button class=\"colab-df-quickchart\" onclick=\"quickchart('df-8f484c08-1eca-43d8-9d7b-614c60c91fbd')\"\n",
       "            title=\"Suggest charts\"\n",
       "            style=\"display:none;\">\n",
       "\n",
       "<svg xmlns=\"http://www.w3.org/2000/svg\" height=\"24px\"viewBox=\"0 0 24 24\"\n",
       "     width=\"24px\">\n",
       "    <g>\n",
       "        <path d=\"M19 3H5c-1.1 0-2 .9-2 2v14c0 1.1.9 2 2 2h14c1.1 0 2-.9 2-2V5c0-1.1-.9-2-2-2zM9 17H7v-7h2v7zm4 0h-2V7h2v10zm4 0h-2v-4h2v4z\"/>\n",
       "    </g>\n",
       "</svg>\n",
       "  </button>\n",
       "\n",
       "<style>\n",
       "  .colab-df-quickchart {\n",
       "      --bg-color: #E8F0FE;\n",
       "      --fill-color: #1967D2;\n",
       "      --hover-bg-color: #E2EBFA;\n",
       "      --hover-fill-color: #174EA6;\n",
       "      --disabled-fill-color: #AAA;\n",
       "      --disabled-bg-color: #DDD;\n",
       "  }\n",
       "\n",
       "  [theme=dark] .colab-df-quickchart {\n",
       "      --bg-color: #3B4455;\n",
       "      --fill-color: #D2E3FC;\n",
       "      --hover-bg-color: #434B5C;\n",
       "      --hover-fill-color: #FFFFFF;\n",
       "      --disabled-bg-color: #3B4455;\n",
       "      --disabled-fill-color: #666;\n",
       "  }\n",
       "\n",
       "  .colab-df-quickchart {\n",
       "    background-color: var(--bg-color);\n",
       "    border: none;\n",
       "    border-radius: 50%;\n",
       "    cursor: pointer;\n",
       "    display: none;\n",
       "    fill: var(--fill-color);\n",
       "    height: 32px;\n",
       "    padding: 0;\n",
       "    width: 32px;\n",
       "  }\n",
       "\n",
       "  .colab-df-quickchart:hover {\n",
       "    background-color: var(--hover-bg-color);\n",
       "    box-shadow: 0 1px 2px rgba(60, 64, 67, 0.3), 0 1px 3px 1px rgba(60, 64, 67, 0.15);\n",
       "    fill: var(--button-hover-fill-color);\n",
       "  }\n",
       "\n",
       "  .colab-df-quickchart-complete:disabled,\n",
       "  .colab-df-quickchart-complete:disabled:hover {\n",
       "    background-color: var(--disabled-bg-color);\n",
       "    fill: var(--disabled-fill-color);\n",
       "    box-shadow: none;\n",
       "  }\n",
       "\n",
       "  .colab-df-spinner {\n",
       "    border: 2px solid var(--fill-color);\n",
       "    border-color: transparent;\n",
       "    border-bottom-color: var(--fill-color);\n",
       "    animation:\n",
       "      spin 1s steps(1) infinite;\n",
       "  }\n",
       "\n",
       "  @keyframes spin {\n",
       "    0% {\n",
       "      border-color: transparent;\n",
       "      border-bottom-color: var(--fill-color);\n",
       "      border-left-color: var(--fill-color);\n",
       "    }\n",
       "    20% {\n",
       "      border-color: transparent;\n",
       "      border-left-color: var(--fill-color);\n",
       "      border-top-color: var(--fill-color);\n",
       "    }\n",
       "    30% {\n",
       "      border-color: transparent;\n",
       "      border-left-color: var(--fill-color);\n",
       "      border-top-color: var(--fill-color);\n",
       "      border-right-color: var(--fill-color);\n",
       "    }\n",
       "    40% {\n",
       "      border-color: transparent;\n",
       "      border-right-color: var(--fill-color);\n",
       "      border-top-color: var(--fill-color);\n",
       "    }\n",
       "    60% {\n",
       "      border-color: transparent;\n",
       "      border-right-color: var(--fill-color);\n",
       "    }\n",
       "    80% {\n",
       "      border-color: transparent;\n",
       "      border-right-color: var(--fill-color);\n",
       "      border-bottom-color: var(--fill-color);\n",
       "    }\n",
       "    90% {\n",
       "      border-color: transparent;\n",
       "      border-bottom-color: var(--fill-color);\n",
       "    }\n",
       "  }\n",
       "</style>\n",
       "\n",
       "  <script>\n",
       "    async function quickchart(key) {\n",
       "      const quickchartButtonEl =\n",
       "        document.querySelector('#' + key + ' button');\n",
       "      quickchartButtonEl.disabled = true;  // To prevent multiple clicks.\n",
       "      quickchartButtonEl.classList.add('colab-df-spinner');\n",
       "      try {\n",
       "        const charts = await google.colab.kernel.invokeFunction(\n",
       "            'suggestCharts', [key], {});\n",
       "      } catch (error) {\n",
       "        console.error('Error during call to suggestCharts:', error);\n",
       "      }\n",
       "      quickchartButtonEl.classList.remove('colab-df-spinner');\n",
       "      quickchartButtonEl.classList.add('colab-df-quickchart-complete');\n",
       "    }\n",
       "    (() => {\n",
       "      let quickchartButtonEl =\n",
       "        document.querySelector('#df-8f484c08-1eca-43d8-9d7b-614c60c91fbd button');\n",
       "      quickchartButtonEl.style.display =\n",
       "        google.colab.kernel.accessAllowed ? 'block' : 'none';\n",
       "    })();\n",
       "  </script>\n",
       "</div>\n",
       "    </div>\n",
       "  </div>\n"
      ],
      "text/plain": [
       "       District code    Population          Male        Female      Literate  \\\n",
       "count     640.000000  6.400000e+02  6.400000e+02  6.400000e+02  6.400000e+02   \n",
       "mean      320.500000  1.891961e+06  9.738598e+05  9.181011e+05  1.193186e+06   \n",
       "std       184.896367  1.544380e+06  8.007785e+05  7.449864e+05  1.068583e+06   \n",
       "min         1.000000  8.004000e+03  4.414000e+03  3.590000e+03  4.436000e+03   \n",
       "25%       160.750000  8.178610e+05  4.171682e+05  4.017458e+05  4.825982e+05   \n",
       "50%       320.500000  1.557367e+06  7.986815e+05  7.589200e+05  9.573465e+05   \n",
       "75%       480.250000  2.583551e+06  1.338604e+06  1.264277e+06  1.602260e+06   \n",
       "max       640.000000  1.106015e+07  5.865078e+06  5.195070e+06  8.227161e+06   \n",
       "\n",
       "       Male_Literate  Female_Literate            SC       Male_SC  \\\n",
       "count   6.400000e+02     6.400000e+02  6.400000e+02  6.400000e+02   \n",
       "mean    6.793182e+05     5.138675e+05  3.146537e+05  1.617739e+05   \n",
       "std     5.924144e+05     4.801816e+05  3.129818e+05  1.611216e+05   \n",
       "min     2.614000e+03     1.822000e+03  0.000000e+00  0.000000e+00   \n",
       "25%     2.764365e+05     2.008920e+05  8.320850e+04  4.230700e+04   \n",
       "50%     5.483525e+05     4.038590e+05  2.460160e+05  1.255485e+05   \n",
       "75%     9.188582e+05     6.641550e+05  4.477078e+05  2.284602e+05   \n",
       "max     4.591396e+06     3.635765e+06  2.464032e+06  1.266504e+06   \n",
       "\n",
       "          Female_SC  ...  Power_Parity_Rs_90000_150000  \\\n",
       "count  6.400000e+02  ...                    640.000000   \n",
       "mean   1.528798e+05  ...                    786.046875   \n",
       "std    1.520336e+05  ...                   1038.854733   \n",
       "min    0.000000e+00  ...                      0.000000   \n",
       "25%    4.267175e+04  ...                    236.750000   \n",
       "50%    1.178550e+05  ...                    518.000000   \n",
       "75%    2.140502e+05  ...                    941.250000   \n",
       "max    1.197528e+06  ...                  10334.000000   \n",
       "\n",
       "       Power_Parity_Rs_45000_150000  Power_Parity_Rs_150000_240000  \\\n",
       "count                    640.000000                     640.000000   \n",
       "mean                    1696.456250                     294.000000   \n",
       "std                     1720.535151                     638.345281   \n",
       "min                        0.000000                       0.000000   \n",
       "25%                      589.000000                      59.000000   \n",
       "50%                     1220.500000                     149.000000   \n",
       "75%                     2233.250000                     296.500000   \n",
       "max                    13819.000000                   10835.000000   \n",
       "\n",
       "       Power_Parity_Rs_240000_330000  Power_Parity_Rs_150000_330000  \\\n",
       "count                     640.000000                     640.000000   \n",
       "mean                      215.300000                     509.300000   \n",
       "std                       362.684243                     968.538748   \n",
       "min                         0.000000                       0.000000   \n",
       "25%                        24.750000                      95.000000   \n",
       "50%                       118.500000                     278.000000   \n",
       "75%                       262.000000                     564.500000   \n",
       "max                      3595.000000                   14430.000000   \n",
       "\n",
       "       Power_Parity_Rs_330000_425000  Power_Parity_Rs_425000_545000  \\\n",
       "count                     640.000000                     640.000000   \n",
       "mean                      194.204688                     261.245313   \n",
       "std                       424.108001                     587.279450   \n",
       "min                         0.000000                       0.000000   \n",
       "25%                        19.000000                      21.000000   \n",
       "50%                        84.000000                      85.500000   \n",
       "75%                       213.250000                     293.000000   \n",
       "max                      5027.000000                    7597.000000   \n",
       "\n",
       "       Power_Parity_Rs_330000_545000  Power_Parity_Above_Rs_545000  \\\n",
       "count                     640.000000                    640.000000   \n",
       "mean                      455.450000                    279.631250   \n",
       "std                      1007.364839                   1050.934537   \n",
       "min                         0.000000                      0.000000   \n",
       "25%                        44.000000                     18.000000   \n",
       "50%                       186.500000                     60.500000   \n",
       "75%                       497.000000                    215.500000   \n",
       "max                     12624.000000                  18289.000000   \n",
       "\n",
       "       Total_Power_Parity  \n",
       "count          640.000000  \n",
       "mean          3315.412500  \n",
       "std           4638.568719  \n",
       "min              9.000000  \n",
       "25%           1024.250000  \n",
       "50%           2238.500000  \n",
       "75%           3959.000000  \n",
       "max          60163.000000  \n",
       "\n",
       "[8 rows x 116 columns]"
      ]
     },
     "execution_count": 7,
     "metadata": {},
     "output_type": "execute_result"
    }
   ],
   "source": [
    "df.describe()"
   ]
  },
  {
   "cell_type": "code",
   "execution_count": null,
   "metadata": {
    "colab": {
     "base_uri": "https://localhost:8080/"
    },
    "executionInfo": {
     "elapsed": 372,
     "status": "ok",
     "timestamp": 1700563131207,
     "user": {
      "displayName": "Balasubramanian Gopalakrishnan",
      "userId": "15560708231594715961"
     },
     "user_tz": -330
    },
    "id": "8zzxX3AgyTpZ",
    "outputId": "7b07ef5b-c9ee-428a-ae01-3d02655e6f63"
   },
   "outputs": [
    {
     "data": {
      "text/plain": [
       "array([dtype('int64')], dtype=object)"
      ]
     },
     "execution_count": 30,
     "metadata": {},
     "output_type": "execute_result"
    }
   ],
   "source": [
    "df.dtypes.unique()"
   ]
  },
  {
   "cell_type": "code",
   "execution_count": null,
   "metadata": {
    "id": "gpddlt-jYoiY"
   },
   "outputs": [],
   "source": [
    "int_col = df.select_dtypes(include=['int64']).columns\n",
    "flt_col = df.select_dtypes(include=['O']).columns\n",
    "obj_col = df.select_dtypes(include=['object']).columns"
   ]
  },
  {
   "cell_type": "code",
   "execution_count": null,
   "metadata": {
    "colab": {
     "base_uri": "https://localhost:8080/"
    },
    "executionInfo": {
     "elapsed": 349,
     "status": "ok",
     "timestamp": 1700563164585,
     "user": {
      "displayName": "Balasubramanian Gopalakrishnan",
      "userId": "15560708231594715961"
     },
     "user_tz": -330
    },
    "id": "PigAJHZ8bZOf",
    "outputId": "138cf2be-db29-412b-a1a7-8c264bd57acf"
   },
   "outputs": [
    {
     "data": {
      "text/plain": [
       "Index(['District code', 'Population', 'Male', 'Female', 'Literate',\n",
       "       'Male_Literate', 'Female_Literate', 'SC', 'Male_SC', 'Female_SC',\n",
       "       ...\n",
       "       'Power_Parity_Rs_90000_150000', 'Power_Parity_Rs_45000_150000',\n",
       "       'Power_Parity_Rs_150000_240000', 'Power_Parity_Rs_240000_330000',\n",
       "       'Power_Parity_Rs_150000_330000', 'Power_Parity_Rs_330000_425000',\n",
       "       'Power_Parity_Rs_425000_545000', 'Power_Parity_Rs_330000_545000',\n",
       "       'Power_Parity_Above_Rs_545000', 'Total_Power_Parity'],\n",
       "      dtype='object', length=116)"
      ]
     },
     "execution_count": 34,
     "metadata": {},
     "output_type": "execute_result"
    }
   ],
   "source": [
    "int_col"
   ]
  },
  {
   "cell_type": "code",
   "execution_count": null,
   "metadata": {
    "id": "DyUbHR0zdIQb"
   },
   "outputs": [],
   "source": [
    "df.drop(['State name', 'District name'],axis = 1,inplace = True)"
   ]
  },
  {
   "cell_type": "code",
   "execution_count": null,
   "metadata": {
    "colab": {
     "base_uri": "https://localhost:8080/",
     "height": 147
    },
    "executionInfo": {
     "elapsed": 448,
     "status": "ok",
     "timestamp": 1700563123919,
     "user": {
      "displayName": "Balasubramanian Gopalakrishnan",
      "userId": "15560708231594715961"
     },
     "user_tz": -330
    },
    "id": "d-Lub-zkdY5d",
    "outputId": "7e49e917-0b25-4810-d92f-3439524694bf"
   },
   "outputs": [
    {
     "data": {
      "text/html": [
       "\n",
       "  <div id=\"df-f9a8b589-d3b5-45d7-bf05-892885730627\" class=\"colab-df-container\">\n",
       "    <div>\n",
       "<style scoped>\n",
       "    .dataframe tbody tr th:only-of-type {\n",
       "        vertical-align: middle;\n",
       "    }\n",
       "\n",
       "    .dataframe tbody tr th {\n",
       "        vertical-align: top;\n",
       "    }\n",
       "\n",
       "    .dataframe thead th {\n",
       "        text-align: right;\n",
       "    }\n",
       "</style>\n",
       "<table border=\"1\" class=\"dataframe\">\n",
       "  <thead>\n",
       "    <tr style=\"text-align: right;\">\n",
       "      <th></th>\n",
       "      <th>District code</th>\n",
       "      <th>Population</th>\n",
       "      <th>Male</th>\n",
       "      <th>Female</th>\n",
       "      <th>Literate</th>\n",
       "      <th>Male_Literate</th>\n",
       "      <th>Female_Literate</th>\n",
       "      <th>SC</th>\n",
       "      <th>Male_SC</th>\n",
       "      <th>Female_SC</th>\n",
       "      <th>...</th>\n",
       "      <th>Power_Parity_Rs_90000_150000</th>\n",
       "      <th>Power_Parity_Rs_45000_150000</th>\n",
       "      <th>Power_Parity_Rs_150000_240000</th>\n",
       "      <th>Power_Parity_Rs_240000_330000</th>\n",
       "      <th>Power_Parity_Rs_150000_330000</th>\n",
       "      <th>Power_Parity_Rs_330000_425000</th>\n",
       "      <th>Power_Parity_Rs_425000_545000</th>\n",
       "      <th>Power_Parity_Rs_330000_545000</th>\n",
       "      <th>Power_Parity_Above_Rs_545000</th>\n",
       "      <th>Total_Power_Parity</th>\n",
       "    </tr>\n",
       "  </thead>\n",
       "  <tbody>\n",
       "    <tr>\n",
       "      <th>24</th>\n",
       "      <td>25</td>\n",
       "      <td>31564</td>\n",
       "      <td>16588</td>\n",
       "      <td>14976</td>\n",
       "      <td>21845</td>\n",
       "      <td>12897</td>\n",
       "      <td>8948</td>\n",
       "      <td>2235</td>\n",
       "      <td>1154</td>\n",
       "      <td>1081</td>\n",
       "      <td>...</td>\n",
       "      <td>17</td>\n",
       "      <td>36</td>\n",
       "      <td>6</td>\n",
       "      <td>2</td>\n",
       "      <td>8</td>\n",
       "      <td>3</td>\n",
       "      <td>5</td>\n",
       "      <td>8</td>\n",
       "      <td>9</td>\n",
       "      <td>67</td>\n",
       "    </tr>\n",
       "  </tbody>\n",
       "</table>\n",
       "<p>1 rows × 116 columns</p>\n",
       "</div>\n",
       "    <div class=\"colab-df-buttons\">\n",
       "\n",
       "  <div class=\"colab-df-container\">\n",
       "    <button class=\"colab-df-convert\" onclick=\"convertToInteractive('df-f9a8b589-d3b5-45d7-bf05-892885730627')\"\n",
       "            title=\"Convert this dataframe to an interactive table.\"\n",
       "            style=\"display:none;\">\n",
       "\n",
       "  <svg xmlns=\"http://www.w3.org/2000/svg\" height=\"24px\" viewBox=\"0 -960 960 960\">\n",
       "    <path d=\"M120-120v-720h720v720H120Zm60-500h600v-160H180v160Zm220 220h160v-160H400v160Zm0 220h160v-160H400v160ZM180-400h160v-160H180v160Zm440 0h160v-160H620v160ZM180-180h160v-160H180v160Zm440 0h160v-160H620v160Z\"/>\n",
       "  </svg>\n",
       "    </button>\n",
       "\n",
       "  <style>\n",
       "    .colab-df-container {\n",
       "      display:flex;\n",
       "      gap: 12px;\n",
       "    }\n",
       "\n",
       "    .colab-df-convert {\n",
       "      background-color: #E8F0FE;\n",
       "      border: none;\n",
       "      border-radius: 50%;\n",
       "      cursor: pointer;\n",
       "      display: none;\n",
       "      fill: #1967D2;\n",
       "      height: 32px;\n",
       "      padding: 0 0 0 0;\n",
       "      width: 32px;\n",
       "    }\n",
       "\n",
       "    .colab-df-convert:hover {\n",
       "      background-color: #E2EBFA;\n",
       "      box-shadow: 0px 1px 2px rgba(60, 64, 67, 0.3), 0px 1px 3px 1px rgba(60, 64, 67, 0.15);\n",
       "      fill: #174EA6;\n",
       "    }\n",
       "\n",
       "    .colab-df-buttons div {\n",
       "      margin-bottom: 4px;\n",
       "    }\n",
       "\n",
       "    [theme=dark] .colab-df-convert {\n",
       "      background-color: #3B4455;\n",
       "      fill: #D2E3FC;\n",
       "    }\n",
       "\n",
       "    [theme=dark] .colab-df-convert:hover {\n",
       "      background-color: #434B5C;\n",
       "      box-shadow: 0px 1px 3px 1px rgba(0, 0, 0, 0.15);\n",
       "      filter: drop-shadow(0px 1px 2px rgba(0, 0, 0, 0.3));\n",
       "      fill: #FFFFFF;\n",
       "    }\n",
       "  </style>\n",
       "\n",
       "    <script>\n",
       "      const buttonEl =\n",
       "        document.querySelector('#df-f9a8b589-d3b5-45d7-bf05-892885730627 button.colab-df-convert');\n",
       "      buttonEl.style.display =\n",
       "        google.colab.kernel.accessAllowed ? 'block' : 'none';\n",
       "\n",
       "      async function convertToInteractive(key) {\n",
       "        const element = document.querySelector('#df-f9a8b589-d3b5-45d7-bf05-892885730627');\n",
       "        const dataTable =\n",
       "          await google.colab.kernel.invokeFunction('convertToInteractive',\n",
       "                                                    [key], {});\n",
       "        if (!dataTable) return;\n",
       "\n",
       "        const docLinkHtml = 'Like what you see? Visit the ' +\n",
       "          '<a target=\"_blank\" href=https://colab.research.google.com/notebooks/data_table.ipynb>data table notebook</a>'\n",
       "          + ' to learn more about interactive tables.';\n",
       "        element.innerHTML = '';\n",
       "        dataTable['output_type'] = 'display_data';\n",
       "        await google.colab.output.renderOutput(dataTable, element);\n",
       "        const docLink = document.createElement('div');\n",
       "        docLink.innerHTML = docLinkHtml;\n",
       "        element.appendChild(docLink);\n",
       "      }\n",
       "    </script>\n",
       "  </div>\n",
       "\n",
       "    </div>\n",
       "  </div>\n"
      ],
      "text/plain": [
       "    District code  Population   Male  Female  Literate  Male_Literate  \\\n",
       "24             25       31564  16588   14976     21845          12897   \n",
       "\n",
       "    Female_Literate    SC  Male_SC  Female_SC  ...  \\\n",
       "24             8948  2235     1154       1081  ...   \n",
       "\n",
       "    Power_Parity_Rs_90000_150000  Power_Parity_Rs_45000_150000  \\\n",
       "24                            17                            36   \n",
       "\n",
       "    Power_Parity_Rs_150000_240000  Power_Parity_Rs_240000_330000  \\\n",
       "24                              6                              2   \n",
       "\n",
       "    Power_Parity_Rs_150000_330000  Power_Parity_Rs_330000_425000  \\\n",
       "24                              8                              3   \n",
       "\n",
       "    Power_Parity_Rs_425000_545000  Power_Parity_Rs_330000_545000  \\\n",
       "24                              5                              8   \n",
       "\n",
       "    Power_Parity_Above_Rs_545000  Total_Power_Parity  \n",
       "24                             9                  67  \n",
       "\n",
       "[1 rows x 116 columns]"
      ]
     },
     "execution_count": 29,
     "metadata": {},
     "output_type": "execute_result"
    }
   ],
   "source": [
    "df.sample()"
   ]
  },
  {
   "cell_type": "code",
   "execution_count": null,
   "metadata": {
    "colab": {
     "base_uri": "https://localhost:8080/"
    },
    "executionInfo": {
     "elapsed": 372,
     "status": "ok",
     "timestamp": 1700564527967,
     "user": {
      "displayName": "Balasubramanian Gopalakrishnan",
      "userId": "15560708231594715961"
     },
     "user_tz": -330
    },
    "id": "Pt-bbzTayVnt",
    "outputId": "9534fb87-0c97-4d29-b634-8700e6f32a70"
   },
   "outputs": [
    {
     "data": {
      "text/plain": [
       "District code                    0\n",
       "Population                       0\n",
       "Male                             0\n",
       "Female                           0\n",
       "Literate                         0\n",
       "                                ..\n",
       "Power_Parity_Rs_330000_425000    0\n",
       "Power_Parity_Rs_425000_545000    0\n",
       "Power_Parity_Rs_330000_545000    0\n",
       "Power_Parity_Above_Rs_545000     0\n",
       "Total_Power_Parity               0\n",
       "Length: 116, dtype: int64"
      ]
     },
     "execution_count": 35,
     "metadata": {},
     "output_type": "execute_result"
    }
   ],
   "source": [
    "df.isna().sum()"
   ]
  },
  {
   "cell_type": "code",
   "execution_count": null,
   "metadata": {
    "id": "e9bZohj9YbAy"
   },
   "outputs": [],
   "source": [
    "from sklearn.preprocessing import MinMaxScaler"
   ]
  },
  {
   "cell_type": "code",
   "execution_count": null,
   "metadata": {
    "id": "RL21HHyUr7va"
   },
   "outputs": [],
   "source": [
    "df = MinMaxScaler().fit_transform(df)"
   ]
  },
  {
   "cell_type": "code",
   "execution_count": null,
   "metadata": {
    "colab": {
     "base_uri": "https://localhost:8080/"
    },
    "executionInfo": {
     "elapsed": 6,
     "status": "ok",
     "timestamp": 1700567010068,
     "user": {
      "displayName": "Balasubramanian Gopalakrishnan",
      "userId": "15560708231594715961"
     },
     "user_tz": -330
    },
    "id": "DRhctFPzsTmy",
    "outputId": "64f260ec-ea69-492c-9993-c2071768bf31"
   },
   "outputs": [
    {
     "data": {
      "text/plain": [
       "array([[0.00000000e+00, 7.80255849e-02, 8.01574702e-02, ...,\n",
       "        6.65399240e-03, 8.20165127e-04, 1.84526382e-02],\n",
       "       [1.56494523e-03, 6.74747814e-02, 6.71642326e-02, ...,\n",
       "        9.82256020e-03, 9.84198152e-04, 1.75715663e-02],\n",
       "       [3.12989045e-03, 1.13537247e-02, 1.27215961e-02, ...,\n",
       "        2.69328264e-03, 9.29520477e-04, 3.87339163e-03],\n",
       "       ...,\n",
       "       [9.96870110e-01, 2.60926749e-03, 2.78347300e-03, ...,\n",
       "        1.50506971e-02, 4.59292471e-03, 5.22326030e-02],\n",
       "       [9.98435055e-01, 8.83023240e-03, 8.60772773e-03, ...,\n",
       "        1.50506971e-02, 4.59292471e-03, 5.22326030e-02],\n",
       "       [1.00000000e+00, 2.08229281e-02, 2.09650306e-02, ...,\n",
       "        6.03612167e-02, 2.05588058e-02, 9.59703428e-02]])"
      ]
     },
     "execution_count": 40,
     "metadata": {},
     "output_type": "execute_result"
    }
   ],
   "source": [
    "df"
   ]
  },
  {
   "cell_type": "code",
   "execution_count": null,
   "metadata": {
    "id": "F-98kT35sUB3"
   },
   "outputs": [],
   "source": [
    "from sklearn.decomposition import PCA"
   ]
  },
  {
   "cell_type": "code",
   "execution_count": null,
   "metadata": {
    "id": "Ek_6RAhdspyF"
   },
   "outputs": [],
   "source": [
    "pca = PCA(n_components = None)"
   ]
  },
  {
   "cell_type": "code",
   "execution_count": null,
   "metadata": {
    "colab": {
     "base_uri": "https://localhost:8080/"
    },
    "executionInfo": {
     "elapsed": 529,
     "status": "ok",
     "timestamp": 1700567155589,
     "user": {
      "displayName": "Balasubramanian Gopalakrishnan",
      "userId": "15560708231594715961"
     },
     "user_tz": -330
    },
    "id": "ulhXQRpVswTc",
    "outputId": "96693e0f-d433-4c1c-a509-0893247f2cb2"
   },
   "outputs": [
    {
     "data": {
      "text/plain": [
       "array([[-8.79068686e-01, -5.50304069e-02,  3.19648633e-01, ...,\n",
       "        -2.15486782e-16, -1.90544323e-16,  6.35822056e-17],\n",
       "       [-8.98668374e-01, -3.18596772e-02,  3.93299513e-01, ...,\n",
       "         9.87097845e-18,  3.46554033e-17,  5.57802592e-16],\n",
       "       [-1.20758779e+00,  4.39254013e-02,  2.97946910e-01, ...,\n",
       "        -1.20340003e-17, -6.94738218e-17, -1.18459033e-16],\n",
       "       ...,\n",
       "       [-1.09728532e+00,  3.41116374e-01, -1.78270562e-01, ...,\n",
       "         6.75744511e-19,  1.66554196e-16, -4.21703365e-17],\n",
       "       [-1.05417499e+00,  3.36826558e-01, -1.74891097e-01, ...,\n",
       "         2.09743544e-17,  2.27411462e-17, -3.82234166e-17],\n",
       "       [-9.44061785e-01,  4.20904074e-01, -1.29241805e-01, ...,\n",
       "         9.67225963e-18,  2.96923425e-18, -4.09069857e-18]])"
      ]
     },
     "execution_count": 45,
     "metadata": {},
     "output_type": "execute_result"
    }
   ],
   "source": [
    "pca.fit_transform(df)"
   ]
  },
  {
   "cell_type": "code",
   "execution_count": null,
   "metadata": {
    "colab": {
     "base_uri": "https://localhost:8080/"
    },
    "executionInfo": {
     "elapsed": 430,
     "status": "ok",
     "timestamp": 1700567264323,
     "user": {
      "displayName": "Balasubramanian Gopalakrishnan",
      "userId": "15560708231594715961"
     },
     "user_tz": -330
    },
    "id": "0SrUyd-ktN5m",
    "outputId": "2e79ab38-2ef7-45c8-87c6-64b42425065f"
   },
   "outputs": [
    {
     "data": {
      "text/plain": [
       "array([1.05803115e+00, 1.90893319e-01, 1.28178266e-01, 6.92889345e-02,\n",
       "       5.42696975e-02, 3.66189752e-02, 3.51854220e-02, 2.16713715e-02,\n",
       "       1.95274857e-02, 1.73990888e-02, 1.53734674e-02, 1.22254702e-02,\n",
       "       1.09715938e-02, 1.00660122e-02, 8.51259027e-03, 8.12337783e-03,\n",
       "       7.68386578e-03, 6.76978808e-03, 6.13182823e-03, 5.46954173e-03,\n",
       "       5.00833656e-03, 4.80762818e-03, 4.41626669e-03, 4.14899748e-03,\n",
       "       3.94407223e-03, 3.55442140e-03, 3.08657445e-03, 2.94032831e-03,\n",
       "       2.77653156e-03, 2.61301367e-03, 2.55427855e-03, 2.31656432e-03,\n",
       "       2.00536400e-03, 1.97093644e-03, 1.90669516e-03, 1.74423143e-03,\n",
       "       1.40667935e-03, 1.31416585e-03, 1.20162208e-03, 1.15122582e-03,\n",
       "       1.10453613e-03, 1.02207920e-03, 9.17772201e-04, 8.96610454e-04,\n",
       "       8.10060546e-04, 6.95423120e-04, 6.48864520e-04, 6.07572699e-04,\n",
       "       5.67326425e-04, 5.26168139e-04, 4.74848595e-04, 4.38879137e-04,\n",
       "       4.28828238e-04, 3.78554145e-04, 2.84684915e-04, 2.77103395e-04,\n",
       "       2.53764530e-04, 2.45139575e-04, 2.34343549e-04, 1.94156076e-04,\n",
       "       1.88998775e-04, 1.77508795e-04, 1.57369988e-04, 1.35966646e-04,\n",
       "       1.24046714e-04, 1.11499554e-04, 1.04737103e-04, 9.61766251e-05,\n",
       "       8.94271451e-05, 7.47392714e-05, 6.98208180e-05, 5.59560350e-05,\n",
       "       5.08321532e-05, 4.79983616e-05, 4.33113273e-05, 3.57470190e-05,\n",
       "       3.33224531e-05, 2.82771746e-05, 2.26826830e-05, 1.80587146e-05,\n",
       "       1.59695787e-05, 1.43258055e-05, 1.32389070e-05, 1.22705452e-05,\n",
       "       8.96873851e-06, 7.76052024e-06, 7.60676264e-06, 4.70035118e-06,\n",
       "       3.57335388e-06, 3.12928452e-06, 1.52360428e-06, 2.00526804e-08,\n",
       "       2.33640318e-10, 2.08659852e-31, 5.97773448e-33, 5.97773448e-33,\n",
       "       5.97773448e-33, 5.97773448e-33, 5.97773448e-33, 5.97773448e-33,\n",
       "       5.97773448e-33, 5.97773448e-33, 5.97773448e-33, 5.97773448e-33,\n",
       "       5.97773448e-33, 5.97773448e-33, 5.97773448e-33, 5.97773448e-33,\n",
       "       5.97773448e-33, 5.97773448e-33, 5.97773448e-33, 5.97773448e-33,\n",
       "       5.97773448e-33, 5.97773448e-33, 5.97773448e-33, 2.23183818e-33])"
      ]
     },
     "execution_count": 50,
     "metadata": {},
     "output_type": "execute_result"
    }
   ],
   "source": [
    "# features sorted based on eigenvalues\n",
    "pca.explained_variance_"
   ]
  },
  {
   "cell_type": "code",
   "execution_count": null,
   "metadata": {
    "colab": {
     "base_uri": "https://localhost:8080/"
    },
    "executionInfo": {
     "elapsed": 5,
     "status": "ok",
     "timestamp": 1700567234117,
     "user": {
      "displayName": "Balasubramanian Gopalakrishnan",
      "userId": "15560708231594715961"
     },
     "user_tz": -330
    },
    "id": "O1X03Q_qs3xE",
    "outputId": "aa2466eb-d98a-4502-f760-8d16403c0ef6"
   },
   "outputs": [
    {
     "data": {
      "text/plain": [
       "array([5.91070447e-01, 1.06642796e-01, 7.16069513e-02, 3.87083514e-02,\n",
       "       3.03178356e-02, 2.04572371e-02, 1.96563808e-02, 1.21067393e-02,\n",
       "       1.09090547e-02, 9.72002309e-03, 8.58840710e-03, 6.82977446e-03,\n",
       "       6.12929482e-03, 5.62339055e-03, 4.75556939e-03, 4.53813536e-03,\n",
       "       4.29260140e-03, 3.78195073e-03, 3.42555365e-03, 3.05556645e-03,\n",
       "       2.79791359e-03, 2.68578760e-03, 2.46715301e-03, 2.31784272e-03,\n",
       "       2.20336097e-03, 1.98568204e-03, 1.72431875e-03, 1.64261815e-03,\n",
       "       1.55111289e-03, 1.45976341e-03, 1.42695096e-03, 1.29415160e-03,\n",
       "       1.12029915e-03, 1.10106615e-03, 1.06517768e-03, 9.74417107e-04,\n",
       "       7.85843206e-04, 7.34160425e-04, 6.71287706e-04, 6.43133769e-04,\n",
       "       6.17050512e-04, 5.70985846e-04, 5.12714608e-04, 5.00892571e-04,\n",
       "       4.52541355e-04, 3.88499011e-04, 3.62488990e-04, 3.39421262e-04,\n",
       "       3.16937630e-04, 2.93944500e-04, 2.65274772e-04, 2.45180388e-04,\n",
       "       2.39565441e-04, 2.11479755e-04, 1.59039590e-04, 1.54804164e-04,\n",
       "       1.41765878e-04, 1.36947535e-04, 1.30916322e-04, 1.08465539e-04,\n",
       "       1.05584406e-04, 9.91655144e-05, 8.79149440e-05, 7.59579399e-05,\n",
       "       6.92988548e-05, 6.22893680e-05, 5.85115161e-05, 5.37291940e-05,\n",
       "       4.99585884e-05, 4.17531891e-05, 3.90054888e-05, 3.12599101e-05,\n",
       "       2.83974471e-05, 2.68143458e-05, 2.41959281e-05, 1.99701177e-05,\n",
       "       1.86156308e-05, 1.57970796e-05, 1.26717097e-05, 1.00885239e-05,\n",
       "       8.92142544e-06, 8.00312949e-06, 7.39593226e-06, 6.85495570e-06,\n",
       "       5.01039718e-06, 4.33542451e-06, 4.24952763e-06, 2.62585717e-06,\n",
       "       1.99625869e-06, 1.74817878e-06, 8.51163470e-07, 1.12024554e-08,\n",
       "       1.30523461e-10, 1.16568092e-31, 3.33946897e-33, 3.33946897e-33,\n",
       "       3.33946897e-33, 3.33946897e-33, 3.33946897e-33, 3.33946897e-33,\n",
       "       3.33946897e-33, 3.33946897e-33, 3.33946897e-33, 3.33946897e-33,\n",
       "       3.33946897e-33, 3.33946897e-33, 3.33946897e-33, 3.33946897e-33,\n",
       "       3.33946897e-33, 3.33946897e-33, 3.33946897e-33, 3.33946897e-33,\n",
       "       3.33946897e-33, 3.33946897e-33, 3.33946897e-33, 1.24681924e-33])"
      ]
     },
     "execution_count": 48,
     "metadata": {},
     "output_type": "execute_result"
    }
   ],
   "source": [
    "# Percentage contribution of each feature\n",
    "pca.explained_variance_ratio_"
   ]
  },
  {
   "cell_type": "code",
   "execution_count": null,
   "metadata": {
    "colab": {
     "base_uri": "https://localhost:8080/"
    },
    "executionInfo": {
     "elapsed": 434,
     "status": "ok",
     "timestamp": 1700567293040,
     "user": {
      "displayName": "Balasubramanian Gopalakrishnan",
      "userId": "15560708231594715961"
     },
     "user_tz": -330
    },
    "id": "tTLTCHIBtA-J",
    "outputId": "9152c7d3-db83-48f8-e727-3aed277088f6"
   },
   "outputs": [
    {
     "data": {
      "text/plain": [
       "(640, 116)"
      ]
     },
     "execution_count": 54,
     "metadata": {},
     "output_type": "execute_result"
    }
   ],
   "source": [
    "df.shape"
   ]
  },
  {
   "cell_type": "code",
   "execution_count": null,
   "metadata": {
    "colab": {
     "base_uri": "https://localhost:8080/",
     "height": 427
    },
    "executionInfo": {
     "elapsed": 1130,
     "status": "ok",
     "timestamp": 1700567447663,
     "user": {
      "displayName": "Balasubramanian Gopalakrishnan",
      "userId": "15560708231594715961"
     },
     "user_tz": -330
    },
    "id": "2UcWs8TGtVfp",
    "outputId": "13ca8c2e-f3fd-4579-d832-b9063f38a07c"
   },
   "outputs": [
    {
     "data": {
      "text/plain": [
       "Text(0.5, 1.0, 'Scree plot')"
      ]
     },
     "execution_count": 56,
     "metadata": {},
     "output_type": "execute_result"
    },
    {
     "data": {
      "image/png": "[encoded data removed]",
      "text/plain": [
       "<Figure size 700x400 with 1 Axes>"
      ]
     },
     "metadata": {},
     "output_type": "display_data"
    }
   ],
   "source": [
    "# Variance Vs Component plot\n",
    "import matplotlib.pyplot as plt\n",
    "import numpy as np\n",
    "plt.figure(figsize=(7,4))\n",
    "plt.plot(range(1,117,1),np.cumsum(pca.explained_variance_ratio_))\n",
    "plt.ylabel('Sum of variance ratio')\n",
    "plt.xlabel('Range of components')\n",
    "plt.grid()\n",
    "plt.title('Scree plot')"
   ]
  },
  {
   "cell_type": "code",
   "execution_count": null,
   "metadata": {
    "colab": {
     "base_uri": "https://localhost:8080/",
     "height": 75
    },
    "executionInfo": {
     "elapsed": 410,
     "status": "ok",
     "timestamp": 1700567844028,
     "user": {
      "displayName": "Balasubramanian Gopalakrishnan",
      "userId": "15560708231594715961"
     },
     "user_tz": -330
    },
    "id": "en40Pb2Et_EC",
    "outputId": "03dedd80-86b0-4707-8a4c-7c7ae4d14eea"
   },
   "outputs": [
    {
     "data": {
      "text/html": [
       "<style>#sk-container-id-1 {color: black;background-color: white;}#sk-container-id-1 pre{padding: 0;}#sk-container-id-1 div.sk-toggleable {background-color: white;}#sk-container-id-1 label.sk-toggleable__label {cursor: pointer;display: block;width: 100%;margin-bottom: 0;padding: 0.3em;box-sizing: border-box;text-align: center;}#sk-container-id-1 label.sk-toggleable__label-arrow:before {content: \"▸\";float: left;margin-right: 0.25em;color: #696969;}#sk-container-id-1 label.sk-toggleable__label-arrow:hover:before {color: black;}#sk-container-id-1 div.sk-estimator:hover label.sk-toggleable__label-arrow:before {color: black;}#sk-container-id-1 div.sk-toggleable__content {max-height: 0;max-width: 0;overflow: hidden;text-align: left;background-color: #f0f8ff;}#sk-container-id-1 div.sk-toggleable__content pre {margin: 0.2em;color: black;border-radius: 0.25em;background-color: #f0f8ff;}#sk-container-id-1 input.sk-toggleable__control:checked~div.sk-toggleable__content {max-height: 200px;max-width: 100%;overflow: auto;}#sk-container-id-1 input.sk-toggleable__control:checked~label.sk-toggleable__label-arrow:before {content: \"▾\";}#sk-container-id-1 div.sk-estimator input.sk-toggleable__control:checked~label.sk-toggleable__label {background-color: #d4ebff;}#sk-container-id-1 div.sk-label input.sk-toggleable__control:checked~label.sk-toggleable__label {background-color: #d4ebff;}#sk-container-id-1 input.sk-hidden--visually {border: 0;clip: rect(1px 1px 1px 1px);clip: rect(1px, 1px, 1px, 1px);height: 1px;margin: -1px;overflow: hidden;padding: 0;position: absolute;width: 1px;}#sk-container-id-1 div.sk-estimator {font-family: monospace;background-color: #f0f8ff;border: 1px dotted black;border-radius: 0.25em;box-sizing: border-box;margin-bottom: 0.5em;}#sk-container-id-1 div.sk-estimator:hover {background-color: #d4ebff;}#sk-container-id-1 div.sk-parallel-item::after {content: \"\";width: 100%;border-bottom: 1px solid gray;flex-grow: 1;}#sk-container-id-1 div.sk-label:hover label.sk-toggleable__label {background-color: #d4ebff;}#sk-container-id-1 div.sk-serial::before {content: \"\";position: absolute;border-left: 1px solid gray;box-sizing: border-box;top: 0;bottom: 0;left: 50%;z-index: 0;}#sk-container-id-1 div.sk-serial {display: flex;flex-direction: column;align-items: center;background-color: white;padding-right: 0.2em;padding-left: 0.2em;position: relative;}#sk-container-id-1 div.sk-item {position: relative;z-index: 1;}#sk-container-id-1 div.sk-parallel {display: flex;align-items: stretch;justify-content: center;background-color: white;position: relative;}#sk-container-id-1 div.sk-item::before, #sk-container-id-1 div.sk-parallel-item::before {content: \"\";position: absolute;border-left: 1px solid gray;box-sizing: border-box;top: 0;bottom: 0;left: 50%;z-index: -1;}#sk-container-id-1 div.sk-parallel-item {display: flex;flex-direction: column;z-index: 1;position: relative;background-color: white;}#sk-container-id-1 div.sk-parallel-item:first-child::after {align-self: flex-end;width: 50%;}#sk-container-id-1 div.sk-parallel-item:last-child::after {align-self: flex-start;width: 50%;}#sk-container-id-1 div.sk-parallel-item:only-child::after {width: 0;}#sk-container-id-1 div.sk-dashed-wrapped {border: 1px dashed gray;margin: 0 0.4em 0.5em 0.4em;box-sizing: border-box;padding-bottom: 0.4em;background-color: white;}#sk-container-id-1 div.sk-label label {font-family: monospace;font-weight: bold;display: inline-block;line-height: 1.2em;}#sk-container-id-1 div.sk-label-container {text-align: center;}#sk-container-id-1 div.sk-container {/* jupyter's `normalize.less` sets `[hidden] { display: none; }` but bootstrap.min.css set `[hidden] { display: none !important; }` so we also need the `!important` here to be able to override the default hidden behavior on the sphinx rendered scikit-learn.org. See: https://github.com/scikit-learn/scikit-learn/issues/21755 */display: inline-block !important;position: relative;}#sk-container-id-1 div.sk-text-repr-fallback {display: none;}</style><div id=\"sk-container-id-1\" class=\"sk-top-container\"><div class=\"sk-text-repr-fallback\"><pre>PCA(n_components=40)</pre><b>In a Jupyter environment, please rerun this cell to show the HTML representation or trust the notebook. <br />On GitHub, the HTML representation is unable to render, please try loading this page with nbviewer.org.</b></div><div class=\"sk-container\" hidden><div class=\"sk-item\"><div class=\"sk-estimator sk-toggleable\"><input class=\"sk-toggleable__control sk-hidden--visually\" id=\"sk-estimator-id-1\" type=\"checkbox\" checked><label for=\"sk-estimator-id-1\" class=\"sk-toggleable__label sk-toggleable__label-arrow\">PCA</label><div class=\"sk-toggleable__content\"><pre>PCA(n_components=40)</pre></div></div></div></div></div>"
      ],
      "text/plain": [
       "PCA(n_components=40)"
      ]
     },
     "execution_count": 58,
     "metadata": {},
     "output_type": "execute_result"
    }
   ],
   "source": [
    "# Choosing the optimal component to be 11 as per the plot. 11 components are addressing 98% of the variance\n",
    "pca = PCA(n_components=40)\n",
    "pca.fit(df)"
   ]
  },
  {
   "cell_type": "code",
   "execution_count": null,
   "metadata": {
    "colab": {
     "base_uri": "https://localhost:8080/"
    },
    "executionInfo": {
     "elapsed": 394,
     "status": "ok",
     "timestamp": 1700567849230,
     "user": {
      "displayName": "Balasubramanian Gopalakrishnan",
      "userId": "15560708231594715961"
     },
     "user_tz": -330
    },
    "id": "NeP3oM18uITU",
    "outputId": "9fa78ce9-8fe6-403b-af03-92f64b3a5b40"
   },
   "outputs": [
    {
     "data": {
      "text/plain": [
       "array([0.59107045, 0.69771324, 0.76932019, 0.80802855, 0.83834638,\n",
       "       0.85880362, 0.87846   , 0.89056674, 0.90147579, 0.91119582,\n",
       "       0.91978422, 0.926614  , 0.93274329, 0.93836668, 0.94312225,\n",
       "       0.94766039, 0.95195299, 0.95573494, 0.95916049, 0.96221606,\n",
       "       0.96501397, 0.96769976, 0.97016691, 0.97248476, 0.97468812,\n",
       "       0.9766738 , 0.97839812, 0.98004074, 0.98159185, 0.98305161,\n",
       "       0.98447856, 0.98577271, 0.98689301, 0.98799407, 0.98905922,\n",
       "       0.99003361, 0.99081922, 0.99155298, 0.99222408, 0.99286595])"
      ]
     },
     "execution_count": 59,
     "metadata": {},
     "output_type": "execute_result"
    }
   ],
   "source": [
    "pca.explained_variance_ratio_.cumsum()"
   ]
  }
 ],
 "metadata": {
  "accelerator": "GPU",
  "colab": {
   "authorship_tag": "ABX9TyP0Ud6kONA/eZ/SafjZLIxh",
   "gpuType": "T4",
   "provenance": []
  },
  "kernelspec": {
   "display_name": "Python 3 (ipykernel)",
   "language": "python",
   "name": "python3"
  },
  "language_info": {
   "codemirror_mode": {
    "name": "ipython",
    "version": 3
   },
   "file_extension": ".py",
   "mimetype": "text/x-python",
   "name": "python",
   "nbconvert_exporter": "python",
   "pygments_lexer": "ipython3",
   "version": "3.10.9"
  }
 },
 "nbformat": 4,
 "nbformat_minor": 1
}
